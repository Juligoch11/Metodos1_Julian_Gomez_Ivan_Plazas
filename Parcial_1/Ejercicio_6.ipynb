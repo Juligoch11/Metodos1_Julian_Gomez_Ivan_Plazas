{
 "cells": [
  {
   "cell_type": "code",
   "execution_count": 57,
   "metadata": {},
   "outputs": [],
   "source": [
    "import numpy as np\n",
    "import matplotlib.pyplot as plt\n",
    "\n"
   ]
  },
  {
   "cell_type": "code",
   "execution_count": 60,
   "metadata": {},
   "outputs": [],
   "source": [
    "#Ejercicio b\n",
    "def viaje_en_tiempo(n0,n1,T,R,x):\n",
    "\n",
    "    tiempo_aire= n0*np.sqrt(((x-T[0])**2)+(T[1]**2))\n",
    "    tiempo_agua= n1*np.sqrt(((x-R[0])**2)+(R[1]**2))\n",
    "    tiempo_total=tiempo_aire+tiempo_agua\n",
    "    return tiempo_total\n",
    "    \n",
    "    "
   ]
  },
  {
   "cell_type": "code",
   "execution_count": 61,
   "metadata": {},
   "outputs": [
    {
     "data": {
      "image/png": "[encoded data removed]",
      "text/plain": [
       "<Figure size 432x288 with 1 Axes>"
      ]
     },
     "metadata": {
      "needs_background": "light"
     },
     "output_type": "display_data"
    }
   ],
   "source": [
    "n0=1\n",
    "n1=1.33\n",
    "T=np.array((0,10))\n",
    "R=np.array((30,5))\n",
    "p= range(51)\n",
    "tiempos=viaje_en_tiempo(n0,n1,T,R,p)\n",
    "\n",
    "\n",
    "plt.plot(p,tiempos)\n",
    "plt.xlabel(\"x[m]\")\n",
    "plt.ylabel(\"y[m]\")\n",
    "plt.show()\n",
    "    "
   ]
  },
  {
   "cell_type": "code",
   "execution_count": 62,
   "metadata": {},
   "outputs": [
    {
     "name": "stdout",
     "output_type": "stream",
     "text": [
      "25.11876520578254\n"
     ]
    }
   ],
   "source": [
    "def CentralDerivative(f, x, h=0.001):\n",
    "    \n",
    "    return ((f(x+h) - f(x-h))/(2*h))\n",
    "def CentralDerivative_2(f, x, h=0.001):\n",
    "    \n",
    "    return (f(x - h) - 2 * f(x) + f(x + h)) / (h**2)\n",
    "\n",
    "\n",
    "def newtrap(x):\n",
    "    f = lambda x: viaje_en_tiempo(n0, n1, T, R, x) \n",
    "    newx = x - CentralDerivative(f,x)/CentralDerivative_2(f,x)\n",
    "    \n",
    "    return newx\n",
    "solution_a= 1   \n",
    "for i in range(10):\n",
    "    solution_a=newtrap(solution_a)\n",
    "print (solution_a)\n",
    "## sabemos que la ecuación no da el minimo requerido, pero no encontramos otra forma de hacerlo, en la grafica intentamos diferentes valores ,pero cuando mejor nos quedaba este daba error y no pudimos solucionarlo."
   ]
  },
  {
   "cell_type": "code",
   "execution_count": 63,
   "metadata": {},
   "outputs": [
    {
     "name": "stdout",
     "output_type": "stream",
     "text": [
      "-55.56519849566753 -33.29682910520391\n"
     ]
    }
   ],
   "source": [
    "import numpy as np\n",
    "n0 = 1\n",
    "n1 = 1.33\n",
    "minimo = solution_a\n",
    "\n",
    "\n",
    "theta = np.sin(n1/n0)\n",
    "alpha = np.tan((solution_a - R[0])/R[1])\n",
    "alpha0 = np.sin(n1/n0* np.sin(alpha))\n",
    "\n",
    "\n",
    "alpha1 = np.sin(n0/n1*np.sin(alpha0))\n",
    "\n",
    "\n",
    "alpha0_final = np.degrees(alpha0)\n",
    "alpha1_final = np.degrees(alpha1)\n",
    "print(alpha0_final,alpha1_final)"
   ]
  },
  {
   "cell_type": "code",
   "execution_count": 64,
   "metadata": {},
   "outputs": [
    {
     "name": "stdout",
     "output_type": "stream",
     "text": [
      "La ley de Snell no se cumple\n"
     ]
    }
   ],
   "source": [
    "snell_lado_izquierdo = n0 * np.sin(alpha0)\n",
    "snell_lado_derecho = n1 * np.sin(alpha1)\n",
    "\n",
    "if snell_lado_izquierdo==snell_lado_derecho or snell_lado_izquierdo==snell_lado_derecho+0.2 or snell_lado_izquierdo==snell_lado_derecho:\n",
    "    print(\"La ley de Snell se cumple\")\n",
    "else:\n",
    "    print(\"La ley de Snell no se cumple\")"
   ]
  },
  {
   "cell_type": "code",
   "execution_count": null,
   "metadata": {},
   "outputs": [],
   "source": []
  }
 ],
 "metadata": {
  "kernelspec": {
   "display_name": "Python 3 (ipykernel)",
   "language": "python",
   "name": "python3"
  },
  "language_info": {
   "codemirror_mode": {
    "name": "ipython",
    "version": 3
   },
   "file_extension": ".py",
   "mimetype": "text/x-python",
   "name": "python",
   "nbconvert_exporter": "python",
   "pygments_lexer": "ipython3",
   "version": "3.9.12"
  }
 },
 "nbformat": 4,
 "nbformat_minor": 4
}
