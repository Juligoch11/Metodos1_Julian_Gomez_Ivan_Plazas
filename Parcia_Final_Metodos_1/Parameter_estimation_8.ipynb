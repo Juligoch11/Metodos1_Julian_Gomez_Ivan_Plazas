{
 "cells": [
  {
   "cell_type": "code",
   "execution_count": 128,
   "id": "3fa8b6e4",
   "metadata": {},
   "outputs": [],
   "source": [
    "import pandas as pd\n",
    "from scipy import optimize\n",
    "import numpy as np\n",
    "import matplotlib.pyplot as plt"
   ]
  },
  {
   "cell_type": "code",
   "execution_count": 129,
   "id": "606a7adf",
   "metadata": {},
   "outputs": [
    {
     "name": "stdout",
     "output_type": "stream",
     "text": [
      "        h  angle       y  sigmay\n",
      "0    10.0   10.0  0.0017  0.0015\n",
      "1    20.0   10.0  0.0016  0.0015\n",
      "2    30.0   10.0  0.0027  0.0015\n",
      "3    40.0   10.0  0.0055  0.0015\n",
      "4    50.0   10.0  0.0083  0.0015\n",
      "5    60.0   10.0  0.0085  0.0015\n",
      "6    70.0   10.0  0.0096  0.0015\n",
      "7    80.0   10.0  0.0144  0.0015\n",
      "8    90.0   10.0  0.0200  0.0015\n",
      "9   100.0   10.0  0.0208  0.0015\n",
      "10   10.0   20.0  0.0007  0.0015\n",
      "11   20.0   20.0  0.0016  0.0015\n",
      "12   30.0   20.0  0.0030  0.0015\n",
      "13   40.0   20.0  0.0043  0.0015\n",
      "14   50.0   20.0  0.0078  0.0015\n",
      "15   60.0   20.0  0.0092  0.0015\n",
      "16   70.0   20.0  0.0106  0.0015\n",
      "17   80.0   20.0  0.0142  0.0015\n",
      "18   90.0   20.0  0.0181  0.0015\n",
      "19  100.0   20.0  0.0210  0.0015\n",
      "20   10.0   30.0  0.0013  0.0015\n",
      "21   20.0   30.0  0.0017  0.0015\n",
      "22   30.0   30.0  0.0038  0.0015\n",
      "23   40.0   30.0  0.0059  0.0015\n",
      "24   50.0   30.0  0.0067  0.0015\n",
      "25   60.0   30.0  0.0094  0.0015\n",
      "26   70.0   30.0  0.0122  0.0015\n",
      "27   80.0   30.0  0.0132  0.0015\n",
      "28   90.0   30.0  0.0151  0.0015\n",
      "29  100.0   30.0  0.0186  0.0015\n",
      "30   10.0   40.0  0.0011  0.0015\n",
      "31   20.0   40.0  0.0013  0.0015\n",
      "32   30.0   40.0  0.0040  0.0015\n",
      "33   40.0   40.0  0.0051  0.0015\n",
      "34   50.0   40.0  0.0067  0.0015\n",
      "35   60.0   40.0  0.0068  0.0015\n",
      "36   70.0   40.0  0.0088  0.0015\n",
      "37   80.0   40.0  0.0126  0.0015\n",
      "38   90.0   40.0  0.0149  0.0015\n",
      "39  100.0   40.0  0.0173  0.0015\n",
      "40   10.0   50.0  0.0006  0.0015\n",
      "41   20.0   50.0  0.0006  0.0015\n",
      "42   30.0   50.0  0.0030  0.0015\n",
      "43   40.0   50.0  0.0032  0.0015\n",
      "44   50.0   50.0  0.0051  0.0015\n",
      "45   60.0   50.0  0.0068  0.0015\n",
      "46   70.0   50.0  0.0062  0.0015\n",
      "47   80.0   50.0  0.0094  0.0015\n",
      "48   90.0   50.0  0.0121  0.0015\n",
      "49  100.0   50.0  0.0126  0.0015\n",
      "50   10.0   60.0  0.0001  0.0015\n",
      "51   20.0   60.0 -0.0000  0.0015\n",
      "52   30.0   60.0  0.0016  0.0015\n",
      "53   40.0   60.0  0.0030  0.0015\n",
      "54   50.0   60.0  0.0047  0.0015\n",
      "55   60.0   60.0  0.0053  0.0015\n",
      "56   70.0   60.0  0.0068  0.0015\n",
      "57   80.0   60.0  0.0079  0.0015\n",
      "58   90.0   60.0  0.0092  0.0015\n",
      "59  100.0   60.0  0.0112  0.0015\n"
     ]
    }
   ],
   "source": [
    "archivo=open(\"DataRotacion.csv\")\n",
    "leer= pd.read_csv(archivo,sep=\",\")\n",
    "print(leer)"
   ]
  },
  {
   "cell_type": "code",
   "execution_count": 130,
   "id": "30ad6346",
   "metadata": {},
   "outputs": [
    {
     "name": "stdout",
     "output_type": "stream",
     "text": [
      "        h  angle       y  sigmay\n",
      "20   10.0   30.0  0.0013  0.0015\n",
      "21   20.0   30.0  0.0017  0.0015\n",
      "22   30.0   30.0  0.0038  0.0015\n",
      "23   40.0   30.0  0.0059  0.0015\n",
      "24   50.0   30.0  0.0067  0.0015\n",
      "25   60.0   30.0  0.0094  0.0015\n",
      "26   70.0   30.0  0.0122  0.0015\n",
      "27   80.0   30.0  0.0132  0.0015\n",
      "28   90.0   30.0  0.0151  0.0015\n",
      "29  100.0   30.0  0.0186  0.0015\n"
     ]
    }
   ],
   "source": [
    "datos_30=leer[leer[\"angle\"]==30]\n",
    "print(datos_30)"
   ]
  },
  {
   "cell_type": "code",
   "execution_count": 131,
   "id": "474ec223",
   "metadata": {},
   "outputs": [],
   "source": [
    "def desviacion_de_coriolis(h, omega, lambda_, g):\n",
    "    deviation = ((2*np.sqrt(2)) / 3 ) * omega * np.cos(np.deg2rad(lambda_)) * (((h ** 3) /g)**(1/2))\n",
    "    return deviation\n"
   ]
  },
  {
   "cell_type": "code",
   "execution_count": 132,
   "id": "7c84d0dc",
   "metadata": {},
   "outputs": [],
   "source": [
    "def x2(omega, h, y, sigmay, angle, g):\n",
    "    deviation = desviacion_de_coriolis(h, omega, angle, g)\n",
    "    total = y- deviation\n",
    "    x2 = np.sum((total)**2 / (2*sigmay** 2))\n",
    "    return x2"
   ]
  },
  {
   "cell_type": "code",
   "execution_count": 133,
   "id": "a201e5d7",
   "metadata": {},
   "outputs": [
    {
     "name": "stdout",
     "output_type": "stream",
     "text": [
      "Valor estimado de la velocidad angular:\n",
      "7.243998152757606e-05\n"
     ]
    }
   ],
   "source": [
    "h = np.float64(datos_30[\"h\"])\n",
    "y = np.float64(datos_30[\"y\"])\n",
    "sigmay = np.float64(datos_30[\"sigmay\"])\n",
    "angle = 30\n",
    "g = 9.81\n",
    "omega_inicial = 1e-4\n",
    "\n",
    "\n",
    "resultado = optimize.minimize(x2, omega_inicial, args=(h, y, sigmay, angle, g))\n",
    "\n",
    "\n",
    "omega_estimado = resultado.x[0]\n",
    "\n",
    "print(\"Valor estimado de la velocidad angular:\")\n",
    "print(omega_estimado)"
   ]
  },
  {
   "cell_type": "code",
   "execution_count": 137,
   "id": "c116e448",
   "metadata": {},
   "outputs": [
    {
     "data": {
      "image/png": "[encoded data removed]",
      "text/plain": [
       "<Figure size 432x288 with 1 Axes>"
      ]
     },
     "metadata": {
      "needs_background": "light"
     },
     "output_type": "display_data"
    }
   ],
   "source": [
    "h_model = np.linspace(min(h), max(h), 100)\n",
    "\n",
    "desviacion = desviacion_de_coriolis(h_model, omega_estimado, angle, g)\n",
    "\n",
    "fig, ax = plt.subplots()\n",
    "\n",
    "ax.errorbar(h, y, yerr=sigmay, fmt='o', label='Datos')\n",
    "\n",
    "\n",
    "ax.plot(h_model, desviacion, label='Modelo')\n",
    "\n",
    "ax.set_xlabel('Altura (h)')\n",
    "ax.set_ylabel('Desviación')\n",
    "\n",
    "ax.set_title('Datos y Modelo para latitud lambda = 30')\n",
    "\n",
    "ax.legend()\n",
    "\n",
    "plt.show()"
   ]
  },
  {
   "cell_type": "code",
   "execution_count": null,
   "id": "2ccd52ab",
   "metadata": {},
   "outputs": [],
   "source": [
    "#Parte 2"
   ]
  },
  {
   "cell_type": "code",
   "execution_count": null,
   "id": "4d188c5f",
   "metadata": {},
   "outputs": [],
   "source": [
    "#Los puntos a,b,c,d,e se hacen en la siguinete parte juntos"
   ]
  },
  {
   "cell_type": "code",
   "execution_count": 168,
   "id": "46b7e4f6",
   "metadata": {},
   "outputs": [],
   "source": [
    "N=300\n",
    "Gravedad = []\n",
    "Omega = []\n",
    "\n",
    "for i in range(N):\n",
    "\n",
    "    g_remuestreado = 9.81 + np.random.normal(loc=0, scale=1)\n",
    "    \n",
    "    Gravedad.append(g_remuestreado)\n",
    "\n",
    "    puntos_modificados = y + np.random.normal(loc=0, scale=sigmay[0], size=len(y))\n",
    "\n",
    "    resultado = optimize.minimize(chi_squared, x0=[7e-5], args=(h, puntos_modificados, sigmay, angle, g_remuestreado))\n",
    "\n",
    "    omega_estimado = resultado.x[0]\n",
    "\n",
    "    Omega.append(omega_estimado)"
   ]
  },
  {
   "cell_type": "code",
   "execution_count": null,
   "id": "5aaf9591",
   "metadata": {},
   "outputs": [],
   "source": [
    "#Punto F"
   ]
  },
  {
   "cell_type": "code",
   "execution_count": 169,
   "id": "91906d5e",
   "metadata": {},
   "outputs": [
    {
     "data": {
      "image/png": "[encoded data removed]",
      "text/plain": [
       "<Figure size 432x288 with 1 Axes>"
      ]
     },
     "metadata": {
      "needs_background": "light"
     },
     "output_type": "display_data"
    },
    {
     "name": "stdout",
     "output_type": "stream",
     "text": [
      "Número de cuadros en la figura: 841\n"
     ]
    }
   ],
   "source": [
    "binsx = np.linspace(np.min(Omega), np.max(Omega), 30)\n",
    "binsy = np.linspace(np.min(Gravedad), np.max(Gravedad), 30)\n",
    "\n",
    "H2, binsx, binsy = np.histogram2d(Omega, Gravedad, bins=(binsx, binsy))\n",
    "\n",
    "plt.imshow(H2.T, origin='lower', aspect='auto', extent=[binsx[0], binsx[-1], binsy[0], binsy[-1]])\n",
    "plt.xlabel('Rapidez Angular (ω)')\n",
    "plt.ylabel('Gravedad (g)')\n",
    "plt.title('Distribución Conjunta f(ω, g)')\n",
    "plt.show()\n",
    "num_cuadros = H2.size\n",
    "print(\"Número de cuadros en la figura:\", num_cuadros)"
   ]
  },
  {
   "cell_type": "code",
   "execution_count": 170,
   "id": "6078dfe0",
   "metadata": {},
   "outputs": [],
   "source": [
    "#Los cambios en el valor de la gravedad están relacionados con los cambios en el valor \n",
    "#de omega. Si uno de ellos aumenta, es probable que el otro también aumente, y si uno \n",
    "#disminuye, es probable que el otro también disminuya. Esto sugiere una relación lineal \n",
    "#entre el valor de la gravedad y el omega, por lo que podemos decir que existe una \n",
    "#correlación entre estas. "
   ]
  },
  {
   "cell_type": "code",
   "execution_count": 171,
   "id": "82ea9107",
   "metadata": {},
   "outputs": [
    {
     "name": "stdout",
     "output_type": "stream",
     "text": [
      "[ 1.  1.  0.  0.  3.  2.  7.  5. 10. 10. 14. 13. 17. 21. 28. 25. 37. 29.\n",
      " 19. 19. 15.  5.  7.  4.  3.  2.  1.  0.  2.]\n"
     ]
    }
   ],
   "source": [
    "H1 = np.sum(H2, axis=1)\n",
    "print(H1)"
   ]
  },
  {
   "cell_type": "code",
   "execution_count": 172,
   "id": "40b446d6",
   "metadata": {},
   "outputs": [
    {
     "name": "stdout",
     "output_type": "stream",
     "text": [
      "[  1.   2.   2.   2.   5.   7.  14.  19.  29.  39.  53.  66.  83. 104.\n",
      " 132. 157. 194. 223. 242. 261. 276. 281. 288. 292. 295. 297. 298. 298.\n",
      " 300.]\n",
      "5\n",
      "14\n",
      "24\n"
     ]
    }
   ],
   "source": [
    "cs = np.cumsum(H1)\n",
    "ij = np.searchsorted(cs, np.percentile(cs, 16))\n",
    "ii = np.searchsorted(cs, np.percentile(cs, 50))\n",
    "ji = np.searchsorted(cs, np.percentile(cs, 84))\n",
    "\n",
    "print(cs)\n",
    "print(ij)\n",
    "print(ii)\n",
    "print(ji)"
   ]
  },
  {
   "cell_type": "code",
   "execution_count": null,
   "id": "c01c4816",
   "metadata": {},
   "outputs": [],
   "source": []
  },
  {
   "cell_type": "code",
   "execution_count": null,
   "id": "28ea5341",
   "metadata": {},
   "outputs": [],
   "source": []
  }
 ],
 "metadata": {
  "kernelspec": {
   "display_name": "Python 3 (ipykernel)",
   "language": "python",
   "name": "python3"
  },
  "language_info": {
   "codemirror_mode": {
    "name": "ipython",
    "version": 3
   },
   "file_extension": ".py",
   "mimetype": "text/x-python",
   "name": "python",
   "nbconvert_exporter": "python",
   "pygments_lexer": "ipython3",
   "version": "3.9.12"
  }
 },
 "nbformat": 4,
 "nbformat_minor": 5
}
