{
 "cells": [
  {
   "cell_type": "code",
   "execution_count": 14,
   "id": "48873021",
   "metadata": {},
   "outputs": [],
   "source": [
    "import numpy as np"
   ]
  },
  {
   "cell_type": "code",
   "execution_count": 15,
   "id": "bb4f50e0",
   "metadata": {},
   "outputs": [],
   "source": [
    "def jacobiano(f, x, h=0.01):\n",
    "    n = len(x)\n",
    "    total = np.zeros((n, n))\n",
    "    \n",
    "    for i in range(n):\n",
    "        e = np.zeros(n)\n",
    "        e[i] = 1\n",
    "        total[:,i] = (-f(x+2*h*e) + 8*f(x+h*e) - 8*f(x-h*e) + f(x-2*h*e)) / (12*h)\n",
    "    \n",
    "    return total"
   ]
  },
  {
   "cell_type": "code",
   "execution_count": 16,
   "id": "f5c57d57",
   "metadata": {},
   "outputs": [
    {
     "name": "stdout",
     "output_type": "stream",
     "text": [
      "[[ 6.          0.24740396  0.24740396]\n",
      " [ 0.37377753  9.          0.32802064]\n",
      " [-1.16820117 -1.16820117 60.        ]]\n"
     ]
    }
   ],
   "source": [
    "x0 = np.array([0.5, 0.5, 0.5])\n",
    "J = jacobiano(lambda x: np.array([6*x[0] - 2*np.cos(x[1]*x[2]) - 1,\n",
    "                                 9*x[1] + np.sqrt(x[0]**2 + np.sin(x[2]) + 1.06) + 0.9,\n",
    "                                 60*x[2] + 3*np.exp(-x[0]*x[1]) + 10*np.pi - 3]), x0, h=0.01)\n",
    "print(J)"
   ]
  },
  {
   "cell_type": "code",
   "execution_count": 18,
   "id": "78b3b915",
   "metadata": {},
   "outputs": [
    {
     "data": {
      "text/plain": [
       "array([[ 6.        ,  0.24740396,  0.24740396],\n",
       "       [ 0.37377753,  9.        ,  0.32802064],\n",
       "       [-1.16820118, -1.16820118, 60.        ]])"
      ]
     },
     "execution_count": 18,
     "metadata": {},
     "output_type": "execute_result"
    }
   ],
   "source": [
    "def derivada_central_2(x, function, h, a):\n",
    "    sol = function(x + h*a) - function(x - h*a)\n",
    "    return sol/(2*h)\n",
    "def jacobiano_4(funciones, derivada, variables, x_point, h):\n",
    "    n = len(funciones)\n",
    "    Jacobian = np.zeros((variables, n))\n",
    "    for i in range(n):\n",
    "        for j in range(variables):\n",
    "            a = np.zeros(variables)\n",
    "            a[j] += 1\n",
    "            Jacobian[i, j] = derivada(x_point, funciones[i], h, a)\n",
    "\n",
    "    return Jacobian\n",
    "def Funcion_1(x):\n",
    "    return 6*x[0] - 2*np.cos(x[1]*x[2]) - 1\n",
    "\n",
    "def Funcion_2(x):\n",
    "    return 9*x[1] + np.sqrt(x[0]**2 + np.sin(x[2]) + 1.06) + 0.9\n",
    "\n",
    "def Funcion_3(x):\n",
    "    return 60*x[2] + 3*(np.e**(-x[0]*x[1])) + 10*np.pi - 3\n",
    "\n",
    "funciones = [Funcion_1, Funcion_2, Funcion_3]\n",
    "\n",
    "jacobiano_4(funciones, derivada_central_2, 3, np.array([0.5, 0.5, 0.5]), h = 0.0001)"
   ]
  },
  {
   "cell_type": "code",
   "execution_count": null,
   "id": "14c4d418",
   "metadata": {},
   "outputs": [],
   "source": []
  }
 ],
 "metadata": {
  "kernelspec": {
   "display_name": "Python 3 (ipykernel)",
   "language": "python",
   "name": "python3"
  },
  "language_info": {
   "codemirror_mode": {
    "name": "ipython",
    "version": 3
   },
   "file_extension": ".py",
   "mimetype": "text/x-python",
   "name": "python",
   "nbconvert_exporter": "python",
   "pygments_lexer": "ipython3",
   "version": "3.9.12"
  }
 },
 "nbformat": 4,
 "nbformat_minor": 5
}
