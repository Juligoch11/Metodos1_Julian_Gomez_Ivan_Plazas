{
 "cells": [
  {
   "cell_type": "code",
   "execution_count": 1,
   "id": "4e36f2e1",
   "metadata": {},
   "outputs": [],
   "source": [
    "import numpy as np"
   ]
  },
  {
   "cell_type": "code",
   "execution_count": 131,
   "id": "91512bcc",
   "metadata": {},
   "outputs": [
    {
     "name": "stdout",
     "output_type": "stream",
     "text": [
      "(1.57262, array([ 0.40824829, -0.40824829, -0.81649658]))\n"
     ]
    }
   ],
   "source": [
    "H = np.array([[1., 2., -1.], [1., 0., 1.], [4., -4., 5.]])\n",
    "\n",
    "vector_i = np.random.rand(3)\n",
    "\n",
    "iteracion = 1000\n",
    "tolerancia = 1e-9\n",
    "n = H.shape[0]\n",
    "x = vector_i / np.linalg.norm(vector_i)\n",
    "conteo = 0\n",
    "\n",
    "for i in range(iteracion):\n",
    "    total = np.linalg.solve(H - conteo*np.eye(n), x)\n",
    "    total = total / np.linalg.norm(total)\n",
    "   \n",
    "\n",
    "    if np.abs(np.dot(total, x) - conteo) < tolerancia:\n",
    "        break\n",
    "\n",
    "    conteo = np.dot(total, x)\n",
    "    x = total\n",
    "\n",
    "final = x\n",
    "conteo = 1/conteo + np.linalg.norm(vector_i)\n",
    "\n",
    "#Cuando el conteo este cercano a 1 el reultado dara el esperado.\n",
    "print((round(conteo, 5), final))"
   ]
  },
  {
   "cell_type": "code",
   "execution_count": null,
   "id": "2633a450",
   "metadata": {},
   "outputs": [],
   "source": []
  }
 ],
 "metadata": {
  "kernelspec": {
   "display_name": "Python 3 (ipykernel)",
   "language": "python",
   "name": "python3"
  },
  "language_info": {
   "codemirror_mode": {
    "name": "ipython",
    "version": 3
   },
   "file_extension": ".py",
   "mimetype": "text/x-python",
   "name": "python",
   "nbconvert_exporter": "python",
   "pygments_lexer": "ipython3",
   "version": "3.9.12"
  }
 },
 "nbformat": 4,
 "nbformat_minor": 5
}
