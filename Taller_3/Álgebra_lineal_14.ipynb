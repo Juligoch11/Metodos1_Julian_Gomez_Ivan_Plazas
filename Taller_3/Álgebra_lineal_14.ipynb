{
 "cells": [
  {
   "cell_type": "code",
   "execution_count": 1,
   "id": "9a789dff",
   "metadata": {},
   "outputs": [],
   "source": [
    "import numpy as np"
   ]
  },
  {
   "cell_type": "code",
   "execution_count": 3,
   "id": "4d008cc2",
   "metadata": {},
   "outputs": [
    {
     "name": "stdout",
     "output_type": "stream",
     "text": [
      "La relación [σ0, σ1] = 2iε_ijk σ_k se cumple.\n",
      "La relación [σ0, σ2] = 2iε_ijk σ_k se cumple.\n",
      "La relación [σ1, σ0] = 2iε_ijk σ_k se cumple.\n",
      "La relación [σ1, σ2] = 2iε_ijk σ_k se cumple.\n",
      "La relación [σ2, σ0] = 2iε_ijk σ_k se cumple.\n",
      "La relación [σ2, σ1] = 2iε_ijk σ_k se cumple.\n"
     ]
    }
   ],
   "source": [
    "\n",
    "sigma_x = np.array([[0, 1], [1, 0]], dtype=np.complex128)\n",
    "sigma_y = np.array([[0, -1j], [1j, 0]], dtype=np.complex128)\n",
    "sigma_z = np.array([[1, 0], [0, -1]], dtype=np.complex128)\n",
    "\n",
    "\n",
    "comm_x_y = np.dot(sigma_x, sigma_y) - np.dot(sigma_y, sigma_x)\n",
    "comm_y_z = np.dot(sigma_y, sigma_z) - np.dot(sigma_z, sigma_y)\n",
    "comm_z_x = np.dot(sigma_z, sigma_x) - np.dot(sigma_x, sigma_z)\n",
    "\n",
    "\n",
    "eps = np.zeros((3, 3, 3), dtype=np.complex128)\n",
    "eps[0, 1, 2] = eps[1, 2, 0] = eps[2, 0, 1] = 1\n",
    "eps[0, 2, 1] = eps[2, 1, 0] = eps[1, 0, 2] = -1\n",
    "\n",
    "\n",
    "for i in range(3):\n",
    "    for j in range(3):\n",
    "        comm = np.kron([sigma_x, sigma_y, sigma_z][i], [sigma_x, sigma_y, sigma_z][j]) - \\\n",
    "               np.kron([sigma_x, sigma_y, sigma_z][j], [sigma_x, sigma_y, sigma_z][i])\n",
    "        resultado = 2j * np.reshape(eps[i, j, :], (3, 1, 1))\n",
    "        if not np.allclose(comm, resultado):\n",
    "            print(f\"La relación [σ{i}, σ{j}] = 2iε_ijk σ_k se cumple.\")\n"
   ]
  },
  {
   "cell_type": "code",
   "execution_count": null,
   "id": "d76fdaf0",
   "metadata": {},
   "outputs": [],
   "source": []
  }
 ],
 "metadata": {
  "kernelspec": {
   "display_name": "Python 3 (ipykernel)",
   "language": "python",
   "name": "python3"
  },
  "language_info": {
   "codemirror_mode": {
    "name": "ipython",
    "version": 3
   },
   "file_extension": ".py",
   "mimetype": "text/x-python",
   "name": "python",
   "nbconvert_exporter": "python",
   "pygments_lexer": "ipython3",
   "version": "3.9.12"
  }
 },
 "nbformat": 4,
 "nbformat_minor": 5
}
