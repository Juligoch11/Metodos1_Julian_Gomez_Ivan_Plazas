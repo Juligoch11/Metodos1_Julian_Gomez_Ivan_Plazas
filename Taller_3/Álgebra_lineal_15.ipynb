{
 "cells": [
  {
   "cell_type": "code",
   "execution_count": 1,
   "id": "b51f6935",
   "metadata": {},
   "outputs": [],
   "source": [
    "import sympy as sp"
   ]
  },
  {
   "cell_type": "code",
   "execution_count": 2,
   "id": "d7e4d42c",
   "metadata": {},
   "outputs": [
    {
     "data": {
      "text/latex": [
       "$\\displaystyle \\left[\\begin{matrix}-2 & 0 & 0 & 0\\\\0 & 2 & 0 & 0\\\\0 & 0 & 2 & 0\\\\0 & 0 & 0 & 2\\end{matrix}\\right]$"
      ],
      "text/plain": [
       "Matrix([\n",
       "[-2, 0, 0, 0],\n",
       "[ 0, 2, 0, 0],\n",
       "[ 0, 0, 2, 0],\n",
       "[ 0, 0, 0, 2]])"
      ]
     },
     "execution_count": 2,
     "metadata": {},
     "output_type": "execute_result"
    }
   ],
   "source": [
    "gamma0 = sp.Matrix([[1, 0, 0, 0],\n",
    "                    [0, 1, 0, 0],\n",
    "                    [0, 0, -1, 0],\n",
    "                    [0, 0, 0, -1]])\n",
    "\n",
    "gamma1 = sp.Matrix([[0, 0, 0, 1],\n",
    "                    [0, 0, 1, 0],\n",
    "                    [0, -1, 0, 0],\n",
    "                    [-1, 0, 0, 0]])\n",
    "\n",
    "gamma2 = sp.Matrix([[0, 0, 0, -sp.I],\n",
    "                    [0, 0, sp.I, 0],\n",
    "                    [0, sp.I, 0, 0],\n",
    "                    [-sp.I, 0, 0, 0]])\n",
    "\n",
    "gamma3 = sp.Matrix([[0, 0, 1, 0],\n",
    "                    [0, 0, 0, -1],\n",
    "                    [-1, 0, 0, 0],\n",
    "                    [0, 1, 0, 0]])\n",
    "\n",
    "eta = sp.diag(1, -1, -1, -1)\n",
    "\n",
    "anticommutation = gamma0*gamma1 + gamma1*gamma0 + gamma0*gamma2 + gamma2*gamma0 + gamma0*gamma3 + gamma3*gamma0 + gamma1*gamma2 + gamma2*gamma1 + gamma1*gamma3 + gamma3*gamma1 + gamma2*gamma3 + gamma3*gamma2\n",
    "\n",
    "sp.simplify(anticommutation - 2*eta*sp.eye(4))"
   ]
  },
  {
   "cell_type": "code",
   "execution_count": null,
   "id": "44b12714",
   "metadata": {},
   "outputs": [],
   "source": []
  }
 ],
 "metadata": {
  "kernelspec": {
   "display_name": "Python 3 (ipykernel)",
   "language": "python",
   "name": "python3"
  },
  "language_info": {
   "codemirror_mode": {
    "name": "ipython",
    "version": 3
   },
   "file_extension": ".py",
   "mimetype": "text/x-python",
   "name": "python",
   "nbconvert_exporter": "python",
   "pygments_lexer": "ipython3",
   "version": "3.9.12"
  }
 },
 "nbformat": 4,
 "nbformat_minor": 5
}
