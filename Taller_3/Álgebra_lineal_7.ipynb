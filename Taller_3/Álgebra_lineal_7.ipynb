{
 "cells": [
  {
   "cell_type": "code",
   "execution_count": 1,
   "id": "ad1aaf9f",
   "metadata": {},
   "outputs": [],
   "source": [
    "import numpy as np"
   ]
  },
  {
   "cell_type": "code",
   "execution_count": 2,
   "id": "8d108a8f",
   "metadata": {},
   "outputs": [
    {
     "name": "stdout",
     "output_type": "stream",
     "text": [
      "Matriz L:\n",
      " [[ 1  0  0]\n",
      " [ 5  1  0]\n",
      " [-2  3  1]]\n",
      "Matriz U:\n",
      " [[ 4 -2  1]\n",
      " [ 0  3  7]\n",
      " [ 0  0 -2]]\n"
     ]
    }
   ],
   "source": [
    "A = np.array([[4, -2, 1],\n",
    "              [20, -7, 12],\n",
    "              [-8, 13, 17]])\n",
    "L = np.zeros_like(A)\n",
    "\n",
    "np.fill_diagonal(L, 1)\n",
    "\n",
    "U = A.copy()\n",
    "for i in range(A.shape[0] - 1):\n",
    "    for j in range(i + 1, A.shape[0]):\n",
    "        m = U[j, i] / U[i, i]\n",
    "        U[j, :] = U[j, :] - m * U[i, :]\n",
    "        L[j, i] = m\n",
    "\n",
    "print(\"Matriz L:\\n\", L)\n",
    "print(\"Matriz U:\\n\", U)"
   ]
  },
  {
   "cell_type": "code",
   "execution_count": null,
   "id": "4811b32c",
   "metadata": {},
   "outputs": [],
   "source": []
  }
 ],
 "metadata": {
  "kernelspec": {
   "display_name": "Python 3 (ipykernel)",
   "language": "python",
   "name": "python3"
  },
  "language_info": {
   "codemirror_mode": {
    "name": "ipython",
    "version": 3
   },
   "file_extension": ".py",
   "mimetype": "text/x-python",
   "name": "python",
   "nbconvert_exporter": "python",
   "pygments_lexer": "ipython3",
   "version": "3.9.12"
  }
 },
 "nbformat": 4,
 "nbformat_minor": 5
}
