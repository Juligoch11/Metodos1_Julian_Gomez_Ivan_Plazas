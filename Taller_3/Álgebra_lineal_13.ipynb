{
 "cells": [
  {
   "cell_type": "code",
   "execution_count": 1,
   "id": "36931724",
   "metadata": {},
   "outputs": [],
   "source": [
    "import numpy as np"
   ]
  },
  {
   "cell_type": "code",
   "execution_count": 8,
   "id": "1fa6519c",
   "metadata": {},
   "outputs": [
    {
     "name": "stdout",
     "output_type": "stream",
     "text": [
      "Error: [1,3] = [[ 0  0 -1]\n",
      " [ 0  0  0]\n",
      " [ 1  0  0]] no coincide con [[ 0  1  0]\n",
      " [-1  0  0]\n",
      " [ 0  0  0]]\n",
      "Error: [2,3] = [[ 0  0  0]\n",
      " [ 0  0 -1]\n",
      " [ 0  1  0]] no coincide con [[ 0 -1  0]\n",
      " [ 1  0  0]\n",
      " [ 0  0  0]]\n",
      "Error: [3,1] = [[ 0  0  1]\n",
      " [ 0  0  0]\n",
      " [-1  0  0]] no coincide con [[ 0 -1  0]\n",
      " [ 1  0  0]\n",
      " [ 0  0  0]]\n",
      "Error: [3,2] = [[ 0  0  0]\n",
      " [ 0  0  1]\n",
      " [ 0 -1  0]] no coincide con [[ 0  1  0]\n",
      " [-1  0  0]\n",
      " [ 0  0  0]]\n",
      "El álgebra de Lie está dada correctamente.\n"
     ]
    }
   ],
   "source": [
    "\n",
    "Jx = np.array([[0, 0, 0], [0, 0, -1], [0, 1, 0]])\n",
    "Jy = np.array([[0, 0, 1], [0, 0, 0], [-1, 0, 0]])\n",
    "Jz = np.array([[0, -1, 0], [1, 0, 0], [0, 0, 0]])\n",
    "\n",
    "\n",
    "def conmutador(A, B):\n",
    "    return np.dot(A, B) - np.dot(B, A)\n",
    "\n",
    "def levi_civita(i, j, k):\n",
    "    if i==j or j==k or k==i:\n",
    "        return 0\n",
    "    if (i,j,k) in [(1,2,3),(2,3,1),(3,1,2)]:\n",
    "        return 1\n",
    "    else:\n",
    "        return -1\n",
    "\n",
    "\n",
    "for i, Ji in enumerate([Jx, Jy, Jz]):\n",
    "    for j, Jj in enumerate([Jx, Jy, Jz]):\n",
    "        k = [l for l in range(3) if l!=i and l!=j][0]\n",
    "        con = conmutador(Ji, Jj)\n",
    "        resultado = levi_civita(i+1, j+1, k+1) * Jz\n",
    "        if not np.allclose(con, resultado):\n",
    "            print(f\"Error: [{i+1},{j+1}] = {con} no coincide con {resultado}\")\n",
    "print(\"El álgebra de Lie está dada correctamente.\")"
   ]
  },
  {
   "cell_type": "code",
   "execution_count": null,
   "id": "a842abc0",
   "metadata": {},
   "outputs": [],
   "source": []
  }
 ],
 "metadata": {
  "kernelspec": {
   "display_name": "Python 3 (ipykernel)",
   "language": "python",
   "name": "python3"
  },
  "language_info": {
   "codemirror_mode": {
    "name": "ipython",
    "version": 3
   },
   "file_extension": ".py",
   "mimetype": "text/x-python",
   "name": "python",
   "nbconvert_exporter": "python",
   "pygments_lexer": "ipython3",
   "version": "3.9.12"
  }
 },
 "nbformat": 4,
 "nbformat_minor": 5
}
