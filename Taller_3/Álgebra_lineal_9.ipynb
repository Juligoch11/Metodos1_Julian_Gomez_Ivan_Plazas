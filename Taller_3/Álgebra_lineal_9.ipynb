{
 "cells": [
  {
   "cell_type": "code",
   "execution_count": 1,
   "id": "c1baa2ff",
   "metadata": {},
   "outputs": [],
   "source": [
    "import numpy as np"
   ]
  },
  {
   "cell_type": "code",
   "execution_count": 6,
   "id": "83e3dcf7",
   "metadata": {},
   "outputs": [
    {
     "name": "stdout",
     "output_type": "stream",
     "text": [
      "(array([6.89510652, 3.39729507, 1.70759841]), array([[-0.43170413,  0.88573564,  0.17059871],\n",
      "       [-0.49725362, -0.07589338, -0.86427949],\n",
      "       [-0.75257583, -0.45794385,  0.47319874]]))\n"
     ]
    }
   ],
   "source": [
    "def jacobi(A, tol=1e-10, max_iter=1000):\n",
    "    n = A.shape[0]\n",
    "    X = np.eye(n)\n",
    "\n",
    "    for i in range(max_iter):\n",
    "        diagonal = np.abs(A - np.diag(np.diag(A)))\n",
    "        \n",
    "        max_idx = np.unravel_index(np.argmax(diagonal), diagonal.shape)\n",
    "        if diagonal[max_idx] < tol:\n",
    "            break\n",
    "\n",
    "        p, q = max_idx\n",
    "        theta = 0.5 * np.arctan2(2 * A[p, q], A[q, q] - A[p, p])\n",
    "        c = np.cos(theta)\n",
    "        s = np.sin(theta)\n",
    "        J = np.eye(n)\n",
    "        J[p, p] = c\n",
    "        J[q, q] = c\n",
    "        J[p, q] = s\n",
    "        J[q, p] = -s\n",
    "\n",
    "        A = J.T @ A @ J\n",
    "        X = X @ J\n",
    "\n",
    "    values = np.diag(A)\n",
    "    vectors = X\n",
    "    \n",
    "\n",
    "    return values, vectors\n",
    "A = np.array([[4, 1, 1], [1, 3, 2], [1, 2, 5]])\n",
    "print(jacobi(A))"
   ]
  },
  {
   "cell_type": "code",
   "execution_count": 7,
   "id": "0cd4c9fc",
   "metadata": {},
   "outputs": [
    {
     "name": "stdout",
     "output_type": "stream",
     "text": [
      "[6.89510652 3.39729507 1.70759841] [[ 0.43170413  0.88573564  0.17059871]\n",
      " [ 0.49725362 -0.07589338 -0.86427949]\n",
      " [ 0.75257583 -0.45794385  0.47319874]]\n"
     ]
    }
   ],
   "source": [
    "A = np.array([[4, 1, 1], [1, 3, 2], [1, 2, 5]])\n",
    "valores, vectores = np.linalg.eig(A)\n",
    "print(valores,vectores)"
   ]
  },
  {
   "cell_type": "code",
   "execution_count": null,
   "id": "25ca6c02",
   "metadata": {},
   "outputs": [],
   "source": [
    "#Nos damos cuenta que los resultados son muy parecidos, pues nos dan los mismos númerson en\n",
    "#mismo orden, sin embargo, hay una diferencia de signos pues de la primera forma nos da 3\n",
    "#número adicionales con el signo menos.\n"
   ]
  }
 ],
 "metadata": {
  "kernelspec": {
   "display_name": "Python 3 (ipykernel)",
   "language": "python",
   "name": "python3"
  },
  "language_info": {
   "codemirror_mode": {
    "name": "ipython",
    "version": 3
   },
   "file_extension": ".py",
   "mimetype": "text/x-python",
   "name": "python",
   "nbconvert_exporter": "python",
   "pygments_lexer": "ipython3",
   "version": "3.9.12"
  }
 },
 "nbformat": 4,
 "nbformat_minor": 5
}
