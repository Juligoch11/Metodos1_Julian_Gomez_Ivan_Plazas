{
 "cells": [
  {
   "cell_type": "code",
   "execution_count": 90,
   "id": "46c04f03",
   "metadata": {
    "id": "46c04f03"
   },
   "outputs": [],
   "source": [
    "import numpy as np"
   ]
  },
  {
   "cell_type": "code",
   "execution_count": 91,
   "id": "4db70d9f",
   "metadata": {
    "id": "4db70d9f"
   },
   "outputs": [],
   "source": [
    "A = np.array([[1,0,0],[5,1,0],[-2,3,1]])\n",
    "B = np.array([[4,-2,1],[0,3,7],[0,0,-2]])"
   ]
  },
  {
   "cell_type": "code",
   "execution_count": 92,
   "id": "60a805c2",
   "metadata": {
    "id": "60a805c2"
   },
   "outputs": [],
   "source": [
    "P = np.zeros_like(A)"
   ]
  },
  {
   "cell_type": "code",
   "execution_count": 93,
   "id": "5bba45b7",
   "metadata": {
    "id": "5bba45b7"
   },
   "outputs": [],
   "source": [
    "n = A.shape[0]"
   ]
  },
  {
   "cell_type": "code",
   "execution_count": 94,
   "id": "091732c7",
   "metadata": {
    "id": "091732c7"
   },
   "outputs": [],
   "source": [
    "for i in range(n):\n",
    "    for j in range(n):\n",
    "        for k in range(n):\n",
    "            P[i,j] += A[i,k]*B[k,j]"
   ]
  },
  {
   "cell_type": "code",
   "execution_count": 95,
   "id": "88fcbe60",
   "metadata": {
    "id": "88fcbe60",
    "outputId": "036a28b2-1c43-4764-e8f5-6a4ab4554af1"
   },
   "outputs": [
    {
     "name": "stdout",
     "output_type": "stream",
     "text": [
      "[[ 4 -2  1]\n",
      " [20 -7 12]\n",
      " [-8 13 17]]\n"
     ]
    }
   ],
   "source": [
    "print(P)"
   ]
  },
  {
   "cell_type": "code",
   "execution_count": null,
   "id": "bff8de60",
   "metadata": {},
   "outputs": [],
   "source": []
  }
 ],
 "metadata": {
  "colab": {
   "provenance": []
  },
  "kernelspec": {
   "display_name": "Python 3 (ipykernel)",
   "language": "python",
   "name": "python3"
  },
  "language_info": {
   "codemirror_mode": {
    "name": "ipython",
    "version": 3
   },
   "file_extension": ".py",
   "mimetype": "text/x-python",
   "name": "python",
   "nbconvert_exporter": "python",
   "pygments_lexer": "ipython3",
   "version": "3.9.12"
  }
 },
 "nbformat": 4,
 "nbformat_minor": 5
}
