{
 "cells": [
  {
   "cell_type": "code",
   "execution_count": 2,
   "id": "bb0a7e4e",
   "metadata": {},
   "outputs": [],
   "source": [
    "import numpy as np"
   ]
  },
  {
   "cell_type": "code",
   "execution_count": 20,
   "id": "fc84ae69",
   "metadata": {},
   "outputs": [
    {
     "name": "stdout",
     "output_type": "stream",
     "text": [
      "(array([1., 1., 1.]), False, 18)\n"
     ]
    }
   ],
   "source": [
    "def GaussSeidel(A,b,x0,itmax = 100,error = 1e-10):\n",
    "    \n",
    "    M,N = A.shape\n",
    "    x = x0\n",
    "    diverge=False\n",
    "    residuo = np.linalg.norm(b - np.dot(A,x))\n",
    "    it = 0\n",
    "    \n",
    "    while residuo > error and it < itmax:\n",
    "        \n",
    "        it += 1\n",
    "        \n",
    "        for i in range(M):\n",
    "            \n",
    "            sum_ = 0.\n",
    "            \n",
    "            for j in range(N):\n",
    "                \n",
    "                if i != j:\n",
    "                    sum_ += A[i,j]*x[j]\n",
    "                    \n",
    "            x[i] = (b[i] - sum_)/A[i,i]\n",
    "            \n",
    "        \n",
    "        residuo = np.linalg.norm(b - np.dot(A,x))\n",
    "        if residuo > 1e+10:\n",
    "            diverge = True\n",
    "            \n",
    "    return x,diverge,it\n",
    "    \n",
    "\n",
    "A = np.array([[3,-1,-1],[-1.,3.,1.],[2,1,4]])\n",
    "b = np.array([1.,3.,7.])\n",
    "x0 = np.array([0.,0.,0.])\n",
    "print(GaussSeidel(A, b, x0))"
   ]
  },
  {
   "cell_type": "code",
   "execution_count": 26,
   "id": "bcdd5dd0",
   "metadata": {},
   "outputs": [
    {
     "name": "stdout",
     "output_type": "stream",
     "text": [
      "1.0\n"
     ]
    }
   ],
   "source": [
    "A = np.array([[3,-1,-1],[-1.,3.,1.],[2,1,4]])\n",
    "b = np.array([1.,3.,7.])\n",
    "x_init = np.array([0.,0.,0.])\n",
    "lista = np.linspace(1.0, 1.9, 10)\n",
    "\n",
    "minimo = 1e+10\n",
    "min_it = 1e+10\n",
    "\n",
    "\n",
    "for omega in lista:\n",
    "    data = GaussSeidel(A, x_init, b)\n",
    "    if data[1] == False:\n",
    "        if min_it > data[1]:\n",
    "            min_it = data[1]\n",
    "            minimo = omega\n",
    "\n",
    "print(round(minimo, 5))\n",
    "\n",
    "\n",
    "\n"
   ]
  },
  {
   "cell_type": "code",
   "execution_count": null,
   "id": "dd8614c8",
   "metadata": {},
   "outputs": [],
   "source": [
    "#El valor de omega que minimiza las iteraciones es de aproximadamente 1"
   ]
  }
 ],
 "metadata": {
  "kernelspec": {
   "display_name": "Python 3 (ipykernel)",
   "language": "python",
   "name": "python3"
  },
  "language_info": {
   "codemirror_mode": {
    "name": "ipython",
    "version": 3
   },
   "file_extension": ".py",
   "mimetype": "text/x-python",
   "name": "python",
   "nbconvert_exporter": "python",
   "pygments_lexer": "ipython3",
   "version": "3.9.12"
  }
 },
 "nbformat": 4,
 "nbformat_minor": 5
}
