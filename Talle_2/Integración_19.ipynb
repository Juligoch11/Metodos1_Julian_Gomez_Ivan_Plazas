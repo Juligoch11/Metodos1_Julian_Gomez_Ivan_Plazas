{
 "cells": [
  {
   "cell_type": "code",
   "execution_count": 21,
   "id": "5e95d5b4",
   "metadata": {},
   "outputs": [],
   "source": [
    "import numpy as np"
   ]
  },
  {
   "cell_type": "code",
   "execution_count": 22,
   "id": "5c30f655",
   "metadata": {},
   "outputs": [],
   "source": [
    "def bandas(x, T, deltaT):\n",
    "    arg = np.sqrt(x**2 + deltaT**2) * 300 / (2*T)\n",
    "    arri = (1 - np.exp(-2 * arg)) ** 0.5\n",
    "    aba = np.sqrt(x**2 + deltaT**2)\n",
    "    todo=(arri / aba)\n",
    "    return 0.5*todo "
   ]
  },
  {
   "cell_type": "code",
   "execution_count": 23,
   "id": "5ce89016",
   "metadata": {},
   "outputs": [],
   "source": [
    "n=50\n",
    "x, w = np.polynomial.legendre.leggauss(n)"
   ]
  },
  {
   "cell_type": "code",
   "execution_count": 25,
   "id": "1d7198f8",
   "metadata": {},
   "outputs": [
    {
     "name": "stdout",
     "output_type": "stream",
     "text": [
      "39.9437\n"
     ]
    }
   ],
   "source": [
    "Tc = 1.0\n",
    "dTc = 0.0001\n",
    "\n",
    "while True:\n",
    "    Integral = np.sum(w*bandas(x, Tc, dTc))\n",
    "    if np.abs((Integral - 1./0.3)) < dTc:\n",
    "        break\n",
    "    else:\n",
    "        Tc += dTc\n",
    "\n",
    "CriticTemperature = round(Tc, 5)\n",
    "print((CriticTemperature))"
   ]
  },
  {
   "cell_type": "code",
   "execution_count": null,
   "id": "fb3766a4",
   "metadata": {},
   "outputs": [],
   "source": [
    "\n",
    "   "
   ]
  },
  {
   "cell_type": "code",
   "execution_count": null,
   "id": "b5a8bc0e",
   "metadata": {},
   "outputs": [],
   "source": []
  }
 ],
 "metadata": {
  "kernelspec": {
   "display_name": "Python 3 (ipykernel)",
   "language": "python",
   "name": "python3"
  },
  "language_info": {
   "codemirror_mode": {
    "name": "ipython",
    "version": 3
   },
   "file_extension": ".py",
   "mimetype": "text/x-python",
   "name": "python",
   "nbconvert_exporter": "python",
   "pygments_lexer": "ipython3",
   "version": "3.9.12"
  }
 },
 "nbformat": 4,
 "nbformat_minor": 5
}
