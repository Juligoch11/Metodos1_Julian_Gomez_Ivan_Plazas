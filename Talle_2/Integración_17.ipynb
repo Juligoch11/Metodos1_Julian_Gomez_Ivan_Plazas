{
 "cells": [
  {
   "cell_type": "code",
   "execution_count": 242,
   "id": "cef037d6",
   "metadata": {},
   "outputs": [],
   "source": [
    "import numpy as np\n",
    "import sympy as sym\n",
    "from tqdm import tqdm\n",
    "import matplotlib.pyplot as plt"
   ]
  },
  {
   "cell_type": "code",
   "execution_count": 243,
   "id": "1aafdf3a",
   "metadata": {},
   "outputs": [],
   "source": [
    "def Laguerre(n):\n",
    "    x = sym.symbols('x')\n",
    "    f= (x**n)* sym.exp(-x)\n",
    "    L=((sym.exp(x))/(np.math.factorial(n)))*f.diff(x, n)\n",
    "    L=sym.expand(L)\n",
    "    return L"
   ]
  },
  {
   "cell_type": "code",
   "execution_count": 244,
   "id": "e58a4dcb",
   "metadata": {},
   "outputs": [],
   "source": [
    "def Derivada(f,x,h=0.0001):        \n",
    "    return (f(x+h)-f(x-h))/(2*h)"
   ]
  },
  {
   "cell_type": "code",
   "execution_count": 245,
   "id": "be686342",
   "metadata": {},
   "outputs": [],
   "source": [
    "def GetWeight(f,xk,n):\n",
    "    return xk/( ((n+1)*(f(xk)))**2 )"
   ]
  },
  {
   "cell_type": "code",
   "execution_count": 246,
   "id": "aa9baa9a",
   "metadata": {},
   "outputs": [],
   "source": [
    "def Newton(f,df,xn,error,it,preci=0.001,ite=1000):\n",
    "    \n",
    "    h_ = 1.0e-4\n",
    "    \n",
    "    while error > preci and it < ite:\n",
    "        \n",
    "        try:\n",
    "            \n",
    "            xn1 = xn - f(xn)/df(f,xn,h_)+1.0e-10\n",
    "            error = np.abs((xn1-xn)/xn1)        \n",
    "            \n",
    "        except ZeroDivisionError:\n",
    "            print(\"No se peude\")\n",
    "            \n",
    "        xn = xn1\n",
    "        it += 1\n",
    "    \n",
    "   \n",
    "    if it == ite:\n",
    "        return False\n",
    "    else:\n",
    "        return xn1"
   ]
  },
  {
   "cell_type": "code",
   "execution_count": 247,
   "id": "52c6aa9e",
   "metadata": {},
   "outputs": [],
   "source": [
    "def raices(f,df, X, precision=0.001, tole=5):\n",
    "    \n",
    "    raiz = np.array([])\n",
    "    \n",
    "    for i in X:\n",
    "        \n",
    "        root = Newton(f,df,i,100,0,preci=precision)\n",
    "        \n",
    "        if root != False:\n",
    "            if round(root,tole) not in Roots:\n",
    "                raiz=np.append(raiz,round(root,tole))\n",
    "            \n",
    "      \n",
    "    return raiz"
   ]
  },
  {
   "cell_type": "code",
   "execution_count": 248,
   "id": "a90e890a",
   "metadata": {},
   "outputs": [],
   "source": [
    "def Leggauss(n):\n",
    "    \n",
    "    if n == 0 or n == 1:\n",
    "        return 0,0\n",
    "    \n",
    "    Laguerre = np.array([])\n",
    "    Laguerre_1 = np.array([])\n",
    "    Weights = np.array([])\n",
    "    \n",
    "    x = sym.Symbol('x', real=True)  \n",
    "    \n",
    "    for i in range(0,n+1):\n",
    "        \n",
    "        p = Laguerre(i)\n",
    "        p_1 = Laguerre(i+1)\n",
    "        Laguerre=np.append(Laguerre, p)\n",
    "        Laguerre_1=np.append(Laguerre_1, p_1)\n",
    "    \n",
    "   \n",
    "    xi = np.linspace(0.,100,2000)\n",
    "    \n",
    "    pn = sym.lambdify([x], Laguerre[n],'numpy')\n",
    "    pn1 = sym.lambdify([x], Laguerre_1[n],'numpy')\n",
    "\n",
    "    Roots = raices(pn,Derivada, xi, 0.0000001,tolerancia=7)\n",
    "    Roots.sort()\n",
    "    \n",
    "    \n",
    "    for j in Roots:\n",
    "        Weights.append(round(GetWeight(pn1,j,n),7))\n",
    "        \n",
    "    Roots = np.array(Roots)\n",
    "    Weights = np.array(Weights)\n",
    "        \n",
    "    return Roots, Weights\n"
   ]
  },
  {
   "cell_type": "code",
   "execution_count": 249,
   "id": "acbcdb07",
   "metadata": {},
   "outputs": [
    {
     "name": "stdout",
     "output_type": "stream",
     "text": [
      "6.481140690585725\n"
     ]
    }
   ],
   "source": [
    "\n",
    "Ie = np.pi**4/15.\n",
    "\n",
    "f = lambda x : x**3/(1-np.exp(-x))\n",
    "Integral = sum( weights*f(roots) )\n",
    "print(Integral)"
   ]
  },
  {
   "cell_type": "code",
   "execution_count": 250,
   "id": "2dafbcd3",
   "metadata": {},
   "outputs": [
    {
     "data": {
      "image/png": "[encoded data removed]",
      "text/plain": [
       "<Figure size 360x360 with 1 Axes>"
      ]
     },
     "metadata": {
      "needs_background": "light"
     },
     "output_type": "display_data"
    }
   ],
   "source": [
    "fig = plt.figure(figsize=(5,5))\n",
    "plt.plot(Npoints,Error,'bo', label='Laguerre quadrature acurracy')\n",
    "plt.xlabel(r'$n$')\n",
    "plt.ylabel(r'$\\epsilon(n)$')\n",
    "plt.grid()\n",
    "plt.legend(loc=0)\n",
    "plt.savefig('Laguerre.pdf')\n",
    "plt.show()\n"
   ]
  },
  {
   "cell_type": "code",
   "execution_count": null,
   "id": "eeea8d70",
   "metadata": {},
   "outputs": [],
   "source": []
  }
 ],
 "metadata": {
  "kernelspec": {
   "display_name": "Python 3 (ipykernel)",
   "language": "python",
   "name": "python3"
  },
  "language_info": {
   "codemirror_mode": {
    "name": "ipython",
    "version": 3
   },
   "file_extension": ".py",
   "mimetype": "text/x-python",
   "name": "python",
   "nbconvert_exporter": "python",
   "pygments_lexer": "ipython3",
   "version": "3.9.12"
  }
 },
 "nbformat": 4,
 "nbformat_minor": 5
}
