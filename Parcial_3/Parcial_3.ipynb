{
 "cells": [
  {
   "cell_type": "code",
   "execution_count": 135,
   "id": "759ed2db",
   "metadata": {},
   "outputs": [],
   "source": [
    "import sympy as sym\n",
    "import numpy as np\n",
    "import matplotlib.pyplot as plt\n",
    "from sympy import re,im,I, symbols "
   ]
  },
  {
   "cell_type": "code",
   "execution_count": 136,
   "id": "7295978f",
   "metadata": {},
   "outputs": [],
   "source": [
    "x= sym.symbols(\"x\",real=True)\n",
    "y= sym.symbols(\"y\",real=True)"
   ]
  },
  {
   "cell_type": "code",
   "execution_count": 137,
   "id": "0b5c8538",
   "metadata": {},
   "outputs": [
    {
     "data": {
      "text/latex": [
       "$\\displaystyle x + i y$"
      ],
      "text/plain": [
       "x + I*y"
      ]
     },
     "execution_count": 137,
     "metadata": {},
     "output_type": "execute_result"
    }
   ],
   "source": [
    "z=x+sym.I*y\n",
    "z"
   ]
  },
  {
   "cell_type": "code",
   "execution_count": 138,
   "id": "1faad1f7",
   "metadata": {},
   "outputs": [
    {
     "data": {
      "text/latex": [
       "$\\displaystyle \\left(x + i y\\right)^{3} - 1$"
      ],
      "text/plain": [
       "(x + I*y)**3 - 1"
      ]
     },
     "execution_count": 138,
     "metadata": {},
     "output_type": "execute_result"
    }
   ],
   "source": [
    "ecuacion= z**3-1\n",
    "ecuacion"
   ]
  },
  {
   "cell_type": "code",
   "execution_count": 139,
   "id": "9d71b563",
   "metadata": {},
   "outputs": [
    {
     "name": "stdout",
     "output_type": "stream",
     "text": [
      "[x**3 - 3*x*y**2 - 1, 3*x**2*y - y**3]\n"
     ]
    }
   ],
   "source": [
    "F = [sym.re(ecuacion),sym.im(ecuacion)]\n",
    "print(F)"
   ]
  },
  {
   "cell_type": "code",
   "execution_count": 140,
   "id": "4f1fa6f8",
   "metadata": {},
   "outputs": [
    {
     "name": "stdout",
     "output_type": "stream",
     "text": [
      "Matrix([[3*x**2 - 3*y**2, -6*x*y], [6*x*y, 3*x**2 - 3*y**2]])\n"
     ]
    }
   ],
   "source": [
    "d_x=sym.diff(F[0],x,1)\n",
    "d_x_2=sym.diff(F[1],x,1)\n",
    "d_y=sym.diff(F[0],y,1)\n",
    "d_y_2=sym.diff(F[1],y,1)\n",
    "J = sym.Matrix([[d_x,d_y],[d_x_2,d_y_2]])\n",
    "print(J)"
   ]
  },
  {
   "cell_type": "code",
   "execution_count": 141,
   "id": "406dfcb8",
   "metadata": {},
   "outputs": [],
   "source": [
    "Fn = sym.lambdify([x,y],F,\"numpy\")\n",
    "Jn = sym.lambdify([x, y], J, 'numpy')"
   ]
  },
  {
   "cell_type": "code",
   "execution_count": 142,
   "id": "39fe20da",
   "metadata": {},
   "outputs": [
    {
     "name": "stdout",
     "output_type": "stream",
     "text": [
      "[-0.5      +0.j  0.8660254+0.j]\n"
     ]
    }
   ],
   "source": [
    "def Newton_Raphson_generalizado(z0, Fn, Jn, max_it=10000, tol=1e-7):\n",
    "    for it in range(max_it):\n",
    "        F_Real = np.array(Fn(z0[0], z0[1]), dtype=np.complex128)\n",
    "        J_Real = np.array(Jn(z0[0], z0[1]), dtype=np.complex128)\n",
    "        \n",
    "        if np.linalg.det(J_Real) != 0:\n",
    "            inversa = np.linalg.inv(J_Real)\n",
    "            resultado = z0 - np.dot(inversa, F_Real)\n",
    "            \n",
    "            if np.linalg.norm(resultado - z0) < tol:\n",
    "                return resultado\n",
    "            \n",
    "            z0 = resultado\n",
    "print(Newton_Raphson_generalizado([0.5, 0.5], Fn, Jn))"
   ]
  },
  {
   "cell_type": "code",
   "execution_count": 143,
   "id": "24c51f74",
   "metadata": {},
   "outputs": [],
   "source": [
    "N=300\n",
    "x = np.linspace(-1, 1, N)\n",
    "y = np.linspace(-1, 1, N)"
   ]
  },
  {
   "cell_type": "code",
   "execution_count": 144,
   "id": "9c652d02",
   "metadata": {},
   "outputs": [
    {
     "data": {
      "image/png": "[encoded data removed]",
      "text/plain": [
       "<Figure size 432x288 with 1 Axes>"
      ]
     },
     "metadata": {
      "needs_background": "light"
     },
     "output_type": "display_data"
    }
   ],
   "source": [
    "\n",
    "Fractal = np.zeros((N,N), np.int64)\n",
    "\n",
    "x, y = np.meshgrid(x, y)\n",
    "z0 = x + 1j*y\n",
    "\n",
    "for i in range(N):\n",
    "    for j in range(N):\n",
    "        zn = Newton_Raphson_generalizado([z0[i,j].real, z0[i,j].imag], Fn, Jn)\n",
    "        d1 = np.abs(zn - z0[i,j])\n",
    "        d2 = np.abs(zn - z1)\n",
    "        d3 = np.abs(zn - z2)\n",
    "        dmin = np.minimum(d1, np.minimum(d2, d3))\n",
    "        if np.all(dmin == d1):\n",
    "            Fractal[i,j] = 20\n",
    "        elif np.all(dmin == d2):\n",
    "            Fractal[i,j] = 100\n",
    "        elif np.all(dmin == d3):\n",
    "            Fractal[i,j] = 255\n",
    "plt.imshow(Fractal, cmap='coolwarm')\n",
    "plt.show()"
   ]
  },
  {
   "cell_type": "code",
   "execution_count": null,
   "id": "abfd5e94",
   "metadata": {},
   "outputs": [],
   "source": []
  }
 ],
 "metadata": {
  "kernelspec": {
   "display_name": "Python 3 (ipykernel)",
   "language": "python",
   "name": "python3"
  },
  "language_info": {
   "codemirror_mode": {
    "name": "ipython",
    "version": 3
   },
   "file_extension": ".py",
   "mimetype": "text/x-python",
   "name": "python",
   "nbconvert_exporter": "python",
   "pygments_lexer": "ipython3",
   "version": "3.9.12"
  }
 },
 "nbformat": 4,
 "nbformat_minor": 5
}
