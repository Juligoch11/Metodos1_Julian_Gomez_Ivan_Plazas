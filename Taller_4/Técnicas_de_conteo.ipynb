{
 "cells": [
  {
   "cell_type": "code",
   "execution_count": 3,
   "id": "3e4429e8",
   "metadata": {},
   "outputs": [],
   "source": [
    "from math import comb"
   ]
  },
  {
   "cell_type": "code",
   "execution_count": null,
   "id": "6ecd7085",
   "metadata": {},
   "outputs": [],
   "source": [
    "#22"
   ]
  },
  {
   "cell_type": "code",
   "execution_count": 4,
   "id": "9f2ecfa3",
   "metadata": {},
   "outputs": [
    {
     "name": "stdout",
     "output_type": "stream",
     "text": [
      "Cantidad de sumas que dan 10: 66\n"
     ]
    }
   ],
   "source": [
    "count = 0\n",
    "\n",
    "for i in range(11):  \n",
    "    for j in range(11):  \n",
    "        for k in range(11):  \n",
    "            if i + j + k == 10:  \n",
    "                count += 1\n",
    "\n",
    "print(\"Cantidad de sumas que dan 10:\", count)"
   ]
  },
  {
   "cell_type": "code",
   "execution_count": null,
   "id": "6502f320",
   "metadata": {},
   "outputs": [],
   "source": [
    "#23"
   ]
  },
  {
   "cell_type": "code",
   "execution_count": 6,
   "id": "c19152d3",
   "metadata": {},
   "outputs": [
    {
     "name": "stdout",
     "output_type": "stream",
     "text": [
      "Formas de distribuir los colores: 12\n"
     ]
    }
   ],
   "source": [
    "red_count = 3\n",
    "blue_count = 3\n",
    "green_count = 3\n",
    "total_keys = 4\n",
    "\n",
    "combinations = 0\n",
    "\n",
    "combinations = comb(red_count, 2)* comb(blue_count, 2) + comb(red_count, 3) * comb(blue_count, 1)\n",
    "\n",
    "\n",
    "print(\"Formas de distribuir los colores:\", combinations)"
   ]
  }
 ],
 "metadata": {
  "kernelspec": {
   "display_name": "Python 3 (ipykernel)",
   "language": "python",
   "name": "python3"
  },
  "language_info": {
   "codemirror_mode": {
    "name": "ipython",
    "version": 3
   },
   "file_extension": ".py",
   "mimetype": "text/x-python",
   "name": "python",
   "nbconvert_exporter": "python",
   "pygments_lexer": "ipython3",
   "version": "3.9.12"
  }
 },
 "nbformat": 4,
 "nbformat_minor": 5
}
