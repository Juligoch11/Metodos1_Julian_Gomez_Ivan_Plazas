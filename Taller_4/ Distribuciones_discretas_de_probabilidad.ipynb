{
 "cells": [
  {
   "cell_type": "code",
   "execution_count": null,
   "id": "3243b3ba",
   "metadata": {},
   "outputs": [],
   "source": [
    "#3"
   ]
  },
  {
   "cell_type": "code",
   "execution_count": 5,
   "id": "da0dd48a",
   "metadata": {},
   "outputs": [],
   "source": [
    "from math import comb\n",
    "from scipy.special import comb"
   ]
  },
  {
   "cell_type": "code",
   "execution_count": 6,
   "id": "6c99ab12",
   "metadata": {},
   "outputs": [
    {
     "name": "stdout",
     "output_type": "stream",
     "text": [
      "P(X = 0) = 0.4666666666666667\n",
      "P(X = 1) = 0.4666666666666667\n",
      "P(X = 2) = 0.06666666666666667\n"
     ]
    }
   ],
   "source": [
    "def calcular_distribucion_probabilidad():\n",
    "    total_microchips = 10\n",
    "    total_defectuosos = 3\n",
    "    microchips_seleccionados = 2\n",
    "\n",
    "    distribucion_probabilidad = {}\n",
    "\n",
    "    for x in range(microchips_seleccionados + 1):\n",
    "        probabilidad = comb(total_defectuosos, x) * comb(total_microchips - total_defectuosos, microchips_seleccionados - x) / comb(total_microchips, microchips_seleccionados)\n",
    "        distribucion_probabilidad[x] = probabilidad\n",
    "\n",
    "    return distribucion_probabilidad\n",
    "\n",
    "\n",
    "distribucion = calcular_distribucion_probabilidad()\n",
    "\n",
    "\n",
    "for x, probabilidad in distribucion.items():\n",
    "    print(f'P(X = {x}) = {probabilidad}')"
   ]
  },
  {
   "cell_type": "code",
   "execution_count": 7,
   "id": "33474185",
   "metadata": {},
   "outputs": [
    {
     "name": "stdout",
     "output_type": "stream",
     "text": [
      "El valor esperado de microchips defectuosos es: 0.6\n"
     ]
    }
   ],
   "source": [
    "def calcular_valor_esperado():\n",
    "    distribucion = {0: 7/15,1: 7/15,2: 1/15}\n",
    "\n",
    "    valor_esperado = sum(x * p for x, p in distribucion.items())\n",
    "\n",
    "    return valor_esperado\n",
    "\n",
    "valor_esperado = calcular_valor_esperado()\n",
    "\n",
    "print(\"El valor esperado de microchips defectuosos es:\", valor_esperado)"
   ]
  },
  {
   "cell_type": "code",
   "execution_count": null,
   "id": "f769b76d",
   "metadata": {},
   "outputs": [],
   "source": [
    "#4"
   ]
  },
  {
   "cell_type": "code",
   "execution_count": 8,
   "id": "14309325",
   "metadata": {},
   "outputs": [],
   "source": [
    "def particulas(x, y):\n",
    "    numerator = comb(3, x) * comb(2, y) * abs(comb(3, 4 - x - y))\n",
    "    numerador = (numerator)\n",
    "    denominator = comb(8, 4)\n",
    "    return numerador / denominator"
   ]
  },
  {
   "cell_type": "code",
   "execution_count": 24,
   "id": "72ab40bd",
   "metadata": {},
   "outputs": [
    {
     "name": "stdout",
     "output_type": "stream",
     "text": [
      "0.07142857142857142\n"
     ]
    }
   ],
   "source": [
    "def g_x(y,x):\n",
    "    result = 0\n",
    "    for y in range(3):\n",
    "        result += particulas(x, y)\n",
    "    return result\n",
    "print(g_x(y,0))"
   ]
  },
  {
   "cell_type": "code",
   "execution_count": 11,
   "id": "d8701ac4",
   "metadata": {},
   "outputs": [
    {
     "name": "stdout",
     "output_type": "stream",
     "text": [
      "0.2142857142857143\n"
     ]
    }
   ],
   "source": [
    "def h_y(x,y):\n",
    "    result = 0\n",
    "    for x in range(4):\n",
    "        result += particulas(x, y)\n",
    "    return result\n",
    "print(h_y(x,0))"
   ]
  },
  {
   "cell_type": "code",
   "execution_count": 13,
   "id": "86a50a12",
   "metadata": {},
   "outputs": [
    {
     "name": "stdout",
     "output_type": "stream",
     "text": [
      "0.42857142857142855\n"
     ]
    }
   ],
   "source": [
    "def sumatoria_x():\n",
    "    Ex = sum(x * g_x(0) for x in range(4))\n",
    "    return Ex\n",
    "print(sumatoria_x())"
   ]
  },
  {
   "cell_type": "code",
   "execution_count": 14,
   "id": "bb2cff3a",
   "metadata": {},
   "outputs": [
    {
     "name": "stdout",
     "output_type": "stream",
     "text": [
      "0.6428571428571429\n"
     ]
    }
   ],
   "source": [
    "def sumatoria_y():\n",
    "    Ey = sum(y * h_y(x,0) for y in range(3))\n",
    "    return Ey\n",
    "print(sumatoria_y())"
   ]
  },
  {
   "cell_type": "code",
   "execution_count": 18,
   "id": "8c0236fa",
   "metadata": {},
   "outputs": [
    {
     "name": "stdout",
     "output_type": "stream",
     "text": [
      "0.9244897959183673\n"
     ]
    }
   ],
   "source": [
    "Exy = 0\n",
    "for x in range(3):\n",
    "    for y in range(4):\n",
    "        Exy += x * y * particulas(x, y)\n",
    "c = Exy - sumatoria_x() * sumatoria_y()\n",
    "print(c)"
   ]
  },
  {
   "cell_type": "code",
   "execution_count": 21,
   "id": "7e9fbf50",
   "metadata": {},
   "outputs": [
    {
     "name": "stdout",
     "output_type": "stream",
     "text": [
      "0.9244897959183673\n"
     ]
    }
   ],
   "source": [
    "coxy_2 = Exy - sumatoria_x()*sumatoria_y()\n",
    "print(coxy_2)"
   ]
  },
  {
   "cell_type": "code",
   "execution_count": null,
   "id": "c69081e1",
   "metadata": {},
   "outputs": [],
   "source": [
    "#Usando la formula dad para la covarianza nos damos cuenta que da lo mismo."
   ]
  },
  {
   "cell_type": "code",
   "execution_count": 27,
   "id": "b7e57e32",
   "metadata": {},
   "outputs": [
    {
     "name": "stdout",
     "output_type": "stream",
     "text": [
      "0.09183673469387756 0.0\n"
     ]
    }
   ],
   "source": [
    "total=g_x(0,2)*h_y(3,0)\n",
    "final=particulas(3,2)\n",
    "print(total,final)"
   ]
  },
  {
   "cell_type": "code",
   "execution_count": null,
   "id": "acb0f897",
   "metadata": {},
   "outputs": [],
   "source": []
  }
 ],
 "metadata": {
  "kernelspec": {
   "display_name": "Python 3 (ipykernel)",
   "language": "python",
   "name": "python3"
  },
  "language_info": {
   "codemirror_mode": {
    "name": "ipython",
    "version": 3
   },
   "file_extension": ".py",
   "mimetype": "text/x-python",
   "name": "python",
   "nbconvert_exporter": "python",
   "pygments_lexer": "ipython3",
   "version": "3.9.12"
  }
 },
 "nbformat": 4,
 "nbformat_minor": 5
}
