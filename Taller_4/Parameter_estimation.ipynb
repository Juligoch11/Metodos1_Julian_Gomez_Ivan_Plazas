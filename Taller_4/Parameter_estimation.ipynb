{
 "cells": [
  {
   "cell_type": "code",
   "execution_count": null,
   "id": "a5aee863",
   "metadata": {},
   "outputs": [],
   "source": [
    "#3"
   ]
  },
  {
   "cell_type": "code",
   "execution_count": 1,
   "id": "e5080ef4",
   "metadata": {},
   "outputs": [],
   "source": [
    "import numpy as np\n",
    "import pandas as pd\n",
    "import matplotlib.pyplot as plt"
   ]
  },
  {
   "cell_type": "code",
   "execution_count": 2,
   "id": "82060fb6",
   "metadata": {},
   "outputs": [],
   "source": [
    "url = \"https://raw.githubusercontent.com/asegura4488/Database/main/MetodosComputacionalesReforma/Gaussiano.csv\"\n",
    "data = pd.read_csv(url)\n",
    "x = data[\"x\"].values"
   ]
  },
  {
   "cell_type": "code",
   "execution_count": 3,
   "id": "20f54a20",
   "metadata": {},
   "outputs": [],
   "source": [
    "def prior(mu, sigma):\n",
    "    if 3 <= mu <= 5 and 0.5 <= sigma <= 3.5:\n",
    "        return 1\n",
    "    else:\n",
    "        return 0"
   ]
  },
  {
   "cell_type": "code",
   "execution_count": 4,
   "id": "6cea1786",
   "metadata": {},
   "outputs": [],
   "source": [
    "def gaussian_likelihood(x, mu, sigma):\n",
    "    n = len(x)\n",
    "    exponent = np.sum(-0.5 * ((mu - x) / sigma)**2)\n",
    "    constant = np.sqrt(2 * np.pi * sigma**2)\n",
    "    likelihood = (1 / constant)**n * np.exp(exponent)\n",
    "    return likelihood\n",
    "\n",
    "# Ejemplo de uso\n",
    "x = np.array([1.2, 2.5, 0.8, 1.5, 2.1])  # Observaciones\n",
    "mu = 1.5  # Parámetro de media\n",
    "sigma = 0.7  # Parámetro de desviación estándar\n",
    "\n",
    "likelihood = gaussian_likelihood(x, mu, sigma)"
   ]
  },
  {
   "cell_type": "code",
   "execution_count": 5,
   "id": "0060d1d5",
   "metadata": {},
   "outputs": [],
   "source": [
    "def log_posterior(x, mu, sigma):\n",
    "    return np.log(likelihood(x, mu, sigma) * prior(mu, sigma))"
   ]
  },
  {
   "cell_type": "code",
   "execution_count": 6,
   "id": "84396b78",
   "metadata": {},
   "outputs": [],
   "source": [
    "def metropolis(x, N=2000):\n",
    "    mu_0 = np.random.uniform(3, 5)\n",
    "    sig_0 = np.random.uniform(0.5, 3.5)\n",
    "    log_actual = log_posterior(x, mu_0, sig_0)\n",
    "\n",
    "    samples = [(mu_0, sig_0)]\n",
    "\n",
    "    for i in range(1, N):\n",
    "        mu_p = np.random.normal(mu_0, 0.1)\n",
    "        sig_p = np.random.normal(sig_0, 0.1)\n",
    "        log_proposed = log_posterior(x, mu_p, sig_p)\n",
    "\n",
    "        acceptance_ratio = np.exp(log_proposed - log_actual)\n",
    "\n",
    "        if np.random.uniform() < acceptance_ratio:\n",
    "            mu_0 = mu_p\n",
    "            sig_0 = sig_p\n",
    "            log_actual = log_proposed\n",
    "\n",
    "        samples.append((mu_0, sig_0))\n",
    "\n",
    "    return samples"
   ]
  },
  {
   "cell_type": "code",
   "execution_count": null,
   "id": "f56489c3",
   "metadata": {},
   "outputs": [],
   "source": []
  }
 ],
 "metadata": {
  "kernelspec": {
   "display_name": "Python 3 (ipykernel)",
   "language": "python",
   "name": "python3"
  },
  "language_info": {
   "codemirror_mode": {
    "name": "ipython",
    "version": 3
   },
   "file_extension": ".py",
   "mimetype": "text/x-python",
   "name": "python",
   "nbconvert_exporter": "python",
   "pygments_lexer": "ipython3",
   "version": "3.9.12"
  }
 },
 "nbformat": 4,
 "nbformat_minor": 5
}
