{
 "cells": [
  {
   "cell_type": "code",
   "execution_count": null,
   "id": "327e96f0",
   "metadata": {},
   "outputs": [],
   "source": [
    "#1"
   ]
  },
  {
   "cell_type": "code",
   "execution_count": 16,
   "id": "3a7f83d2",
   "metadata": {},
   "outputs": [],
   "source": [
    "import sympy as sym\n",
    "from scipy.integrate import quad"
   ]
  },
  {
   "cell_type": "code",
   "execution_count": 5,
   "id": "4bcab546",
   "metadata": {},
   "outputs": [
    {
     "data": {
      "text/latex": [
       "$\\displaystyle 1.0$"
      ],
      "text/plain": [
       "1.00000000000000"
      ]
     },
     "execution_count": 5,
     "metadata": {},
     "output_type": "execute_result"
    }
   ],
   "source": [
    "\n",
    "x, y = sym.symbols('x y')\n",
    "f = (2/3)*(x+2*y)\n",
    "\n",
    "integrate = sym.integrate(sym.integrate(f, (x, 0, 1)), (y, 0, 1))\n",
    "integrate"
   ]
  },
  {
   "cell_type": "code",
   "execution_count": 6,
   "id": "ac8d62c1",
   "metadata": {},
   "outputs": [
    {
     "name": "stdout",
     "output_type": "stream",
     "text": [
      "0.666666666666667*x + 0.666666666666667\n",
      "1.33333333333333*y + 0.333333333333333\n"
     ]
    }
   ],
   "source": [
    "g_x = sym.integrate(f, (y, 0, 1))\n",
    "h_y = sym.integrate(f, (x, 0, 1))\n",
    "print(g_x)\n",
    "print(h_y)"
   ]
  },
  {
   "cell_type": "code",
   "execution_count": 7,
   "id": "07ad87e9",
   "metadata": {},
   "outputs": [
    {
     "name": "stdout",
     "output_type": "stream",
     "text": [
      "El valor esperado para x es de: 0.888888888888889\n"
     ]
    }
   ],
   "source": [
    "x = sym.symbols('x')\n",
    "gx = (2/3) * (x + 2)\n",
    "\n",
    "Ex = sym.integrate(gx * x, (x, 0, 1))\n",
    "print(\"El valor esperado para x es de: {}\".format(Ex))"
   ]
  },
  {
   "cell_type": "code",
   "execution_count": 8,
   "id": "2997f97a",
   "metadata": {},
   "outputs": [
    {
     "name": "stdout",
     "output_type": "stream",
     "text": [
      "El valor esperado para y es de: 0.416666666666667\n"
     ]
    }
   ],
   "source": [
    "y = sym.symbols('y')\n",
    "hy = (1/2) * (y + 1)\n",
    "\n",
    "Ey = sym.integrate(hy * y, (y, 0, 1))\n",
    "print(\"El valor esperado para y es de: {}\".format(Ey))"
   ]
  },
  {
   "cell_type": "code",
   "execution_count": 13,
   "id": "788269f1",
   "metadata": {},
   "outputs": [
    {
     "name": "stdout",
     "output_type": "stream",
     "text": [
      "La covarianza 1: -(0.333333333333333*x + 0.444444444444444)*(0.666666666666667*y + 0.222222222222222) + 0.333333333333333\n"
     ]
    }
   ],
   "source": [
    "x, y = sym.symbols('x y')\n",
    "f = (2/3) * (x + 2*y)\n",
    "\n",
    "Ex = sym.integrate(f * x, (x, 0, 1))\n",
    "Ey = sym.integrate(f * y, (y, 0, 1))\n",
    "\n",
    "Exy = sym.integrate(sym.integrate(f * x * y, (x, 0, 1)), (y, 0, 1))\n",
    "\n",
    "coxy_1 = Exy - Ex * Ey\n",
    "\n",
    "print(\"La covarianza 1: {}\".format(coxy_1))"
   ]
  },
  {
   "cell_type": "code",
   "execution_count": 14,
   "id": "a497ffdc",
   "metadata": {},
   "outputs": [
    {
     "name": "stdout",
     "output_type": "stream",
     "text": [
      "La covarianza 2: -0.0802469135802469\n"
     ]
    }
   ],
   "source": [
    "x, y = sym.symbols('x y')\n",
    "f = (2/3) * (x + 2*y)\n",
    "\n",
    "Ex = sym.integrate(f * x, (x, 0, 1))\n",
    "Ey = sym.integrate(f * y, (y, 0, 1))\n",
    "\n",
    "Exx = x - Ex\n",
    "Eyy = y - Ey\n",
    "\n",
    "coxy_2 = sym.integrate(sym.integrate(Exx * Eyy * f, (x, 0, 1)), (y, 0, 1))\n",
    "\n",
    "print(\"La covarianza 2: {}\".format(coxy_2))"
   ]
  },
  {
   "cell_type": "code",
   "execution_count": 11,
   "id": "1faa2eac",
   "metadata": {},
   "outputs": [
    {
     "data": {
      "text/latex": [
       "$\\displaystyle \\left(0.666666666666667 x + 0.666666666666667\\right) \\left(1.33333333333333 y + 0.333333333333333\\right)$"
      ],
      "text/plain": [
       "(0.666666666666667*x + 0.666666666666667)*(1.33333333333333*y + 0.333333333333333)"
      ]
     },
     "execution_count": 11,
     "metadata": {},
     "output_type": "execute_result"
    }
   ],
   "source": [
    "g_x*h_y"
   ]
  },
  {
   "cell_type": "code",
   "execution_count": 12,
   "id": "96b92aa5",
   "metadata": {},
   "outputs": [
    {
     "data": {
      "text/latex": [
       "$\\displaystyle 0.666666666666667 x + 1.33333333333333 y$"
      ],
      "text/plain": [
       "0.666666666666667*x + 1.33333333333333*y"
      ]
     },
     "execution_count": 12,
     "metadata": {},
     "output_type": "execute_result"
    }
   ],
   "source": [
    "f"
   ]
  },
  {
   "cell_type": "code",
   "execution_count": null,
   "id": "78cb90be",
   "metadata": {},
   "outputs": [],
   "source": [
    "#4"
   ]
  },
  {
   "cell_type": "code",
   "execution_count": 17,
   "id": "6ba106c8",
   "metadata": {},
   "outputs": [
    {
     "name": "stdout",
     "output_type": "stream",
     "text": [
      "El resultado de la integral es: 3.000000000000001\n"
     ]
    }
   ],
   "source": [
    "result1, _ = quad(lambda x: np.e**(2*x/3) * 0, -np.inf, 0)\n",
    "result2, _ = quad(lambda x: np.e**(2*x/3 - x), 0, np.inf)\n",
    "\n",
    "total_result = result1 + result2\n",
    "\n",
    "print(\"El resultado de la integral es:\", total_result)"
   ]
  },
  {
   "cell_type": "code",
   "execution_count": null,
   "id": "5c6ae5cb",
   "metadata": {},
   "outputs": [],
   "source": []
  }
 ],
 "metadata": {
  "kernelspec": {
   "display_name": "Python 3 (ipykernel)",
   "language": "python",
   "name": "python3"
  },
  "language_info": {
   "codemirror_mode": {
    "name": "ipython",
    "version": 3
   },
   "file_extension": ".py",
   "mimetype": "text/x-python",
   "name": "python",
   "nbconvert_exporter": "python",
   "pygments_lexer": "ipython3",
   "version": "3.9.12"
  }
 },
 "nbformat": 4,
 "nbformat_minor": 5
}
